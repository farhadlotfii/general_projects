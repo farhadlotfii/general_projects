{
 "cells": [
  {
   "cell_type": "code",
   "execution_count": 1,
   "metadata": {},
   "outputs": [],
   "source": [
    "import numpy as np\n",
    "import pandas as pd\n",
    "import matplotlib.pyplot as plt\n",
    "from matplotlib.pyplot import figure"
   ]
  },
  {
   "cell_type": "code",
   "execution_count": 2,
   "metadata": {},
   "outputs": [
    {
     "data": {
      "text/html": [
       "<div>\n",
       "<style scoped>\n",
       "    .dataframe tbody tr th:only-of-type {\n",
       "        vertical-align: middle;\n",
       "    }\n",
       "\n",
       "    .dataframe tbody tr th {\n",
       "        vertical-align: top;\n",
       "    }\n",
       "\n",
       "    .dataframe thead th {\n",
       "        text-align: right;\n",
       "    }\n",
       "</style>\n",
       "<table border=\"1\" class=\"dataframe\">\n",
       "  <thead>\n",
       "    <tr style=\"text-align: right;\">\n",
       "      <th></th>\n",
       "      <th>&lt;TICKER&gt;</th>\n",
       "      <th>&lt;DTYYYYMMDD&gt;</th>\n",
       "      <th>&lt;FIRST&gt;</th>\n",
       "      <th>&lt;HIGH&gt;</th>\n",
       "      <th>&lt;LOW&gt;</th>\n",
       "      <th>&lt;CLOSE&gt;</th>\n",
       "      <th>&lt;VALUE&gt;</th>\n",
       "      <th>&lt;VOL&gt;</th>\n",
       "      <th>&lt;OPENINT&gt;</th>\n",
       "      <th>&lt;PER&gt;</th>\n",
       "      <th>&lt;OPEN&gt;</th>\n",
       "      <th>&lt;LAST&gt;</th>\n",
       "    </tr>\n",
       "  </thead>\n",
       "  <tbody>\n",
       "    <tr>\n",
       "      <th>0</th>\n",
       "      <td>S*I..N..C..Ind.</td>\n",
       "      <td>20220703</td>\n",
       "      <td>6600.0</td>\n",
       "      <td>6640.0</td>\n",
       "      <td>6530.0</td>\n",
       "      <td>6570.0</td>\n",
       "      <td>568548012690</td>\n",
       "      <td>86570273</td>\n",
       "      <td>6032</td>\n",
       "      <td>D</td>\n",
       "      <td>6680.0</td>\n",
       "      <td>6580.0</td>\n",
       "    </tr>\n",
       "    <tr>\n",
       "      <th>1</th>\n",
       "      <td>S*I..N..C..Ind.</td>\n",
       "      <td>20220702</td>\n",
       "      <td>6650.0</td>\n",
       "      <td>6750.0</td>\n",
       "      <td>6580.0</td>\n",
       "      <td>6680.0</td>\n",
       "      <td>786484354990</td>\n",
       "      <td>117817935</td>\n",
       "      <td>4930</td>\n",
       "      <td>D</td>\n",
       "      <td>6740.0</td>\n",
       "      <td>6640.0</td>\n",
       "    </tr>\n",
       "    <tr>\n",
       "      <th>2</th>\n",
       "      <td>S*I..N..C..Ind.</td>\n",
       "      <td>20220629</td>\n",
       "      <td>6770.0</td>\n",
       "      <td>6770.0</td>\n",
       "      <td>6680.0</td>\n",
       "      <td>6740.0</td>\n",
       "      <td>364468985740</td>\n",
       "      <td>54052654</td>\n",
       "      <td>3437</td>\n",
       "      <td>D</td>\n",
       "      <td>6740.0</td>\n",
       "      <td>6750.0</td>\n",
       "    </tr>\n",
       "    <tr>\n",
       "      <th>3</th>\n",
       "      <td>S*I..N..C..Ind.</td>\n",
       "      <td>20220628</td>\n",
       "      <td>6750.0</td>\n",
       "      <td>6800.0</td>\n",
       "      <td>6700.0</td>\n",
       "      <td>6740.0</td>\n",
       "      <td>611112726900</td>\n",
       "      <td>90692641</td>\n",
       "      <td>4911</td>\n",
       "      <td>D</td>\n",
       "      <td>6720.0</td>\n",
       "      <td>6740.0</td>\n",
       "    </tr>\n",
       "    <tr>\n",
       "      <th>4</th>\n",
       "      <td>S*I..N..C..Ind.</td>\n",
       "      <td>20220627</td>\n",
       "      <td>6640.0</td>\n",
       "      <td>6820.0</td>\n",
       "      <td>6640.0</td>\n",
       "      <td>6720.0</td>\n",
       "      <td>781397951230</td>\n",
       "      <td>116348740</td>\n",
       "      <td>5920</td>\n",
       "      <td>D</td>\n",
       "      <td>6710.0</td>\n",
       "      <td>6740.0</td>\n",
       "    </tr>\n",
       "    <tr>\n",
       "      <th>...</th>\n",
       "      <td>...</td>\n",
       "      <td>...</td>\n",
       "      <td>...</td>\n",
       "      <td>...</td>\n",
       "      <td>...</td>\n",
       "      <td>...</td>\n",
       "      <td>...</td>\n",
       "      <td>...</td>\n",
       "      <td>...</td>\n",
       "      <td>...</td>\n",
       "      <td>...</td>\n",
       "      <td>...</td>\n",
       "    </tr>\n",
       "    <tr>\n",
       "      <th>3401</th>\n",
       "      <td>S*I..N..C..Ind.</td>\n",
       "      <td>20070210</td>\n",
       "      <td>4008.0</td>\n",
       "      <td>4008.0</td>\n",
       "      <td>4008.0</td>\n",
       "      <td>4008.0</td>\n",
       "      <td>162907276224</td>\n",
       "      <td>40645528</td>\n",
       "      <td>4984</td>\n",
       "      <td>D</td>\n",
       "      <td>3930.0</td>\n",
       "      <td>4008.0</td>\n",
       "    </tr>\n",
       "    <tr>\n",
       "      <th>3402</th>\n",
       "      <td>S*I..N..C..Ind.</td>\n",
       "      <td>20070207</td>\n",
       "      <td>3930.0</td>\n",
       "      <td>3930.0</td>\n",
       "      <td>3930.0</td>\n",
       "      <td>3930.0</td>\n",
       "      <td>122171316570</td>\n",
       "      <td>31086849</td>\n",
       "      <td>4247</td>\n",
       "      <td>D</td>\n",
       "      <td>3853.0</td>\n",
       "      <td>3930.0</td>\n",
       "    </tr>\n",
       "    <tr>\n",
       "      <th>3403</th>\n",
       "      <td>S*I..N..C..Ind.</td>\n",
       "      <td>20070206</td>\n",
       "      <td>3853.0</td>\n",
       "      <td>3853.0</td>\n",
       "      <td>3853.0</td>\n",
       "      <td>3853.0</td>\n",
       "      <td>103453562449</td>\n",
       "      <td>26850133</td>\n",
       "      <td>4118</td>\n",
       "      <td>D</td>\n",
       "      <td>3778.0</td>\n",
       "      <td>3853.0</td>\n",
       "    </tr>\n",
       "    <tr>\n",
       "      <th>3404</th>\n",
       "      <td>S*I..N..C..Ind.</td>\n",
       "      <td>20070205</td>\n",
       "      <td>3778.0</td>\n",
       "      <td>3778.0</td>\n",
       "      <td>3778.0</td>\n",
       "      <td>3778.0</td>\n",
       "      <td>40902501888</td>\n",
       "      <td>10826496</td>\n",
       "      <td>1709</td>\n",
       "      <td>D</td>\n",
       "      <td>3704.0</td>\n",
       "      <td>3778.0</td>\n",
       "    </tr>\n",
       "    <tr>\n",
       "      <th>3405</th>\n",
       "      <td>S*I..N..C..Ind.</td>\n",
       "      <td>20070204</td>\n",
       "      <td>4000.0</td>\n",
       "      <td>4000.0</td>\n",
       "      <td>3600.0</td>\n",
       "      <td>3704.0</td>\n",
       "      <td>640374172370</td>\n",
       "      <td>172898994</td>\n",
       "      <td>2489</td>\n",
       "      <td>D</td>\n",
       "      <td>4000.0</td>\n",
       "      <td>3704.0</td>\n",
       "    </tr>\n",
       "  </tbody>\n",
       "</table>\n",
       "<p>3406 rows × 12 columns</p>\n",
       "</div>"
      ],
      "text/plain": [
       "             <TICKER>  <DTYYYYMMDD>  <FIRST>  <HIGH>   <LOW>  <CLOSE>  \\\n",
       "0     S*I..N..C..Ind.      20220703   6600.0  6640.0  6530.0   6570.0   \n",
       "1     S*I..N..C..Ind.      20220702   6650.0  6750.0  6580.0   6680.0   \n",
       "2     S*I..N..C..Ind.      20220629   6770.0  6770.0  6680.0   6740.0   \n",
       "3     S*I..N..C..Ind.      20220628   6750.0  6800.0  6700.0   6740.0   \n",
       "4     S*I..N..C..Ind.      20220627   6640.0  6820.0  6640.0   6720.0   \n",
       "...               ...           ...      ...     ...     ...      ...   \n",
       "3401  S*I..N..C..Ind.      20070210   4008.0  4008.0  4008.0   4008.0   \n",
       "3402  S*I..N..C..Ind.      20070207   3930.0  3930.0  3930.0   3930.0   \n",
       "3403  S*I..N..C..Ind.      20070206   3853.0  3853.0  3853.0   3853.0   \n",
       "3404  S*I..N..C..Ind.      20070205   3778.0  3778.0  3778.0   3778.0   \n",
       "3405  S*I..N..C..Ind.      20070204   4000.0  4000.0  3600.0   3704.0   \n",
       "\n",
       "           <VALUE>      <VOL>  <OPENINT> <PER>  <OPEN>  <LAST>  \n",
       "0     568548012690   86570273       6032     D  6680.0  6580.0  \n",
       "1     786484354990  117817935       4930     D  6740.0  6640.0  \n",
       "2     364468985740   54052654       3437     D  6740.0  6750.0  \n",
       "3     611112726900   90692641       4911     D  6720.0  6740.0  \n",
       "4     781397951230  116348740       5920     D  6710.0  6740.0  \n",
       "...            ...        ...        ...   ...     ...     ...  \n",
       "3401  162907276224   40645528       4984     D  3930.0  4008.0  \n",
       "3402  122171316570   31086849       4247     D  3853.0  3930.0  \n",
       "3403  103453562449   26850133       4118     D  3778.0  3853.0  \n",
       "3404   40902501888   10826496       1709     D  3704.0  3778.0  \n",
       "3405  640374172370  172898994       2489     D  4000.0  3704.0  \n",
       "\n",
       "[3406 rows x 12 columns]"
      ]
     },
     "execution_count": 2,
     "metadata": {},
     "output_type": "execute_result"
    }
   ],
   "source": [
    "df = pd.read_csv(\"project_data.csv\")\n",
    "df"
   ]
  },
  {
   "cell_type": "code",
   "execution_count": 3,
   "metadata": {},
   "outputs": [
    {
     "data": {
      "text/plain": [
       "[20220703, 20220702, 20220629, 20220628, 20220627]"
      ]
     },
     "execution_count": 3,
     "metadata": {},
     "output_type": "execute_result"
    }
   ],
   "source": [
    "date = list(df[\"<DTYYYYMMDD>\"])\n",
    "date[0:5]"
   ]
  },
  {
   "cell_type": "code",
   "execution_count": 4,
   "metadata": {},
   "outputs": [
    {
     "data": {
      "text/plain": [
       "[6570.0, 6680.0, 6740.0, 6740.0, 6720.0]"
      ]
     },
     "execution_count": 4,
     "metadata": {},
     "output_type": "execute_result"
    }
   ],
   "source": [
    "close = list(df[\"<CLOSE>\"])\n",
    "close[0:5]"
   ]
  },
  {
   "cell_type": "code",
   "execution_count": 5,
   "metadata": {},
   "outputs": [
    {
     "data": {
      "image/png": "[encoded data removed]",
      "text/plain": [
       "<Figure size 1800x288 with 1 Axes>"
      ]
     },
     "metadata": {
      "needs_background": "light"
     },
     "output_type": "display_data"
    }
   ],
   "source": [
    "fig = plt.figure(figsize=(25,4))\n",
    "plt.plot(date,close,)\n",
    "plt.title(\"The Stock Price\",size='x-large',color='blue')\n",
    "plt.show()"
   ]
  },
  {
   "cell_type": "code",
   "execution_count": 6,
   "metadata": {},
   "outputs": [],
   "source": [
    "def slope(y2, y1, x2, x1):\n",
    "    m = (y2 - y1) / (x2 - x1)\n",
    "    return m "
   ]
  },
  {
   "cell_type": "code",
   "execution_count": 7,
   "metadata": {},
   "outputs": [
    {
     "data": {
      "text/html": [
       "<div>\n",
       "<style scoped>\n",
       "    .dataframe tbody tr th:only-of-type {\n",
       "        vertical-align: middle;\n",
       "    }\n",
       "\n",
       "    .dataframe tbody tr th {\n",
       "        vertical-align: top;\n",
       "    }\n",
       "\n",
       "    .dataframe thead th {\n",
       "        text-align: right;\n",
       "    }\n",
       "</style>\n",
       "<table border=\"1\" class=\"dataframe\">\n",
       "  <thead>\n",
       "    <tr style=\"text-align: right;\">\n",
       "      <th></th>\n",
       "      <th>&lt;TICKER&gt;</th>\n",
       "      <th>&lt;DTYYYYMMDD&gt;</th>\n",
       "      <th>&lt;FIRST&gt;</th>\n",
       "      <th>&lt;HIGH&gt;</th>\n",
       "      <th>&lt;LOW&gt;</th>\n",
       "      <th>&lt;CLOSE&gt;</th>\n",
       "      <th>&lt;VALUE&gt;</th>\n",
       "      <th>&lt;VOL&gt;</th>\n",
       "      <th>&lt;OPENINT&gt;</th>\n",
       "      <th>&lt;PER&gt;</th>\n",
       "      <th>&lt;OPEN&gt;</th>\n",
       "      <th>&lt;LAST&gt;</th>\n",
       "      <th>lagged_close</th>\n",
       "      <th>lagged_date</th>\n",
       "      <th>slope</th>\n",
       "    </tr>\n",
       "  </thead>\n",
       "  <tbody>\n",
       "    <tr>\n",
       "      <th>0</th>\n",
       "      <td>S*I..N..C..Ind.</td>\n",
       "      <td>20220703</td>\n",
       "      <td>6600.0</td>\n",
       "      <td>6640.0</td>\n",
       "      <td>6530.0</td>\n",
       "      <td>6570.0</td>\n",
       "      <td>568548012690</td>\n",
       "      <td>86570273</td>\n",
       "      <td>6032</td>\n",
       "      <td>D</td>\n",
       "      <td>6680.0</td>\n",
       "      <td>6580.0</td>\n",
       "      <td>6680.0</td>\n",
       "      <td>20220702.0</td>\n",
       "      <td>-110.00</td>\n",
       "    </tr>\n",
       "    <tr>\n",
       "      <th>1</th>\n",
       "      <td>S*I..N..C..Ind.</td>\n",
       "      <td>20220702</td>\n",
       "      <td>6650.0</td>\n",
       "      <td>6750.0</td>\n",
       "      <td>6580.0</td>\n",
       "      <td>6680.0</td>\n",
       "      <td>786484354990</td>\n",
       "      <td>117817935</td>\n",
       "      <td>4930</td>\n",
       "      <td>D</td>\n",
       "      <td>6740.0</td>\n",
       "      <td>6640.0</td>\n",
       "      <td>6740.0</td>\n",
       "      <td>20220629.0</td>\n",
       "      <td>-0.82</td>\n",
       "    </tr>\n",
       "    <tr>\n",
       "      <th>2</th>\n",
       "      <td>S*I..N..C..Ind.</td>\n",
       "      <td>20220629</td>\n",
       "      <td>6770.0</td>\n",
       "      <td>6770.0</td>\n",
       "      <td>6680.0</td>\n",
       "      <td>6740.0</td>\n",
       "      <td>364468985740</td>\n",
       "      <td>54052654</td>\n",
       "      <td>3437</td>\n",
       "      <td>D</td>\n",
       "      <td>6740.0</td>\n",
       "      <td>6750.0</td>\n",
       "      <td>6740.0</td>\n",
       "      <td>20220628.0</td>\n",
       "      <td>-0.00</td>\n",
       "    </tr>\n",
       "    <tr>\n",
       "      <th>3</th>\n",
       "      <td>S*I..N..C..Ind.</td>\n",
       "      <td>20220628</td>\n",
       "      <td>6750.0</td>\n",
       "      <td>6800.0</td>\n",
       "      <td>6700.0</td>\n",
       "      <td>6740.0</td>\n",
       "      <td>611112726900</td>\n",
       "      <td>90692641</td>\n",
       "      <td>4911</td>\n",
       "      <td>D</td>\n",
       "      <td>6720.0</td>\n",
       "      <td>6740.0</td>\n",
       "      <td>6720.0</td>\n",
       "      <td>20220627.0</td>\n",
       "      <td>20.00</td>\n",
       "    </tr>\n",
       "    <tr>\n",
       "      <th>4</th>\n",
       "      <td>S*I..N..C..Ind.</td>\n",
       "      <td>20220627</td>\n",
       "      <td>6640.0</td>\n",
       "      <td>6820.0</td>\n",
       "      <td>6640.0</td>\n",
       "      <td>6720.0</td>\n",
       "      <td>781397951230</td>\n",
       "      <td>116348740</td>\n",
       "      <td>5920</td>\n",
       "      <td>D</td>\n",
       "      <td>6710.0</td>\n",
       "      <td>6740.0</td>\n",
       "      <td>6710.0</td>\n",
       "      <td>20220626.0</td>\n",
       "      <td>10.00</td>\n",
       "    </tr>\n",
       "    <tr>\n",
       "      <th>...</th>\n",
       "      <td>...</td>\n",
       "      <td>...</td>\n",
       "      <td>...</td>\n",
       "      <td>...</td>\n",
       "      <td>...</td>\n",
       "      <td>...</td>\n",
       "      <td>...</td>\n",
       "      <td>...</td>\n",
       "      <td>...</td>\n",
       "      <td>...</td>\n",
       "      <td>...</td>\n",
       "      <td>...</td>\n",
       "      <td>...</td>\n",
       "      <td>...</td>\n",
       "      <td>...</td>\n",
       "    </tr>\n",
       "    <tr>\n",
       "      <th>3401</th>\n",
       "      <td>S*I..N..C..Ind.</td>\n",
       "      <td>20070210</td>\n",
       "      <td>4008.0</td>\n",
       "      <td>4008.0</td>\n",
       "      <td>4008.0</td>\n",
       "      <td>4008.0</td>\n",
       "      <td>162907276224</td>\n",
       "      <td>40645528</td>\n",
       "      <td>4984</td>\n",
       "      <td>D</td>\n",
       "      <td>3930.0</td>\n",
       "      <td>4008.0</td>\n",
       "      <td>3930.0</td>\n",
       "      <td>20070207.0</td>\n",
       "      <td>26.00</td>\n",
       "    </tr>\n",
       "    <tr>\n",
       "      <th>3402</th>\n",
       "      <td>S*I..N..C..Ind.</td>\n",
       "      <td>20070207</td>\n",
       "      <td>3930.0</td>\n",
       "      <td>3930.0</td>\n",
       "      <td>3930.0</td>\n",
       "      <td>3930.0</td>\n",
       "      <td>122171316570</td>\n",
       "      <td>31086849</td>\n",
       "      <td>4247</td>\n",
       "      <td>D</td>\n",
       "      <td>3853.0</td>\n",
       "      <td>3930.0</td>\n",
       "      <td>3853.0</td>\n",
       "      <td>20070206.0</td>\n",
       "      <td>77.00</td>\n",
       "    </tr>\n",
       "    <tr>\n",
       "      <th>3403</th>\n",
       "      <td>S*I..N..C..Ind.</td>\n",
       "      <td>20070206</td>\n",
       "      <td>3853.0</td>\n",
       "      <td>3853.0</td>\n",
       "      <td>3853.0</td>\n",
       "      <td>3853.0</td>\n",
       "      <td>103453562449</td>\n",
       "      <td>26850133</td>\n",
       "      <td>4118</td>\n",
       "      <td>D</td>\n",
       "      <td>3778.0</td>\n",
       "      <td>3853.0</td>\n",
       "      <td>3778.0</td>\n",
       "      <td>20070205.0</td>\n",
       "      <td>75.00</td>\n",
       "    </tr>\n",
       "    <tr>\n",
       "      <th>3404</th>\n",
       "      <td>S*I..N..C..Ind.</td>\n",
       "      <td>20070205</td>\n",
       "      <td>3778.0</td>\n",
       "      <td>3778.0</td>\n",
       "      <td>3778.0</td>\n",
       "      <td>3778.0</td>\n",
       "      <td>40902501888</td>\n",
       "      <td>10826496</td>\n",
       "      <td>1709</td>\n",
       "      <td>D</td>\n",
       "      <td>3704.0</td>\n",
       "      <td>3778.0</td>\n",
       "      <td>3704.0</td>\n",
       "      <td>20070204.0</td>\n",
       "      <td>74.00</td>\n",
       "    </tr>\n",
       "    <tr>\n",
       "      <th>3405</th>\n",
       "      <td>S*I..N..C..Ind.</td>\n",
       "      <td>20070204</td>\n",
       "      <td>4000.0</td>\n",
       "      <td>4000.0</td>\n",
       "      <td>3600.0</td>\n",
       "      <td>3704.0</td>\n",
       "      <td>640374172370</td>\n",
       "      <td>172898994</td>\n",
       "      <td>2489</td>\n",
       "      <td>D</td>\n",
       "      <td>4000.0</td>\n",
       "      <td>3704.0</td>\n",
       "      <td>NaN</td>\n",
       "      <td>NaN</td>\n",
       "      <td>NaN</td>\n",
       "    </tr>\n",
       "  </tbody>\n",
       "</table>\n",
       "<p>3406 rows × 15 columns</p>\n",
       "</div>"
      ],
      "text/plain": [
       "             <TICKER>  <DTYYYYMMDD>  <FIRST>  <HIGH>   <LOW>  <CLOSE>  \\\n",
       "0     S*I..N..C..Ind.      20220703   6600.0  6640.0  6530.0   6570.0   \n",
       "1     S*I..N..C..Ind.      20220702   6650.0  6750.0  6580.0   6680.0   \n",
       "2     S*I..N..C..Ind.      20220629   6770.0  6770.0  6680.0   6740.0   \n",
       "3     S*I..N..C..Ind.      20220628   6750.0  6800.0  6700.0   6740.0   \n",
       "4     S*I..N..C..Ind.      20220627   6640.0  6820.0  6640.0   6720.0   \n",
       "...               ...           ...      ...     ...     ...      ...   \n",
       "3401  S*I..N..C..Ind.      20070210   4008.0  4008.0  4008.0   4008.0   \n",
       "3402  S*I..N..C..Ind.      20070207   3930.0  3930.0  3930.0   3930.0   \n",
       "3403  S*I..N..C..Ind.      20070206   3853.0  3853.0  3853.0   3853.0   \n",
       "3404  S*I..N..C..Ind.      20070205   3778.0  3778.0  3778.0   3778.0   \n",
       "3405  S*I..N..C..Ind.      20070204   4000.0  4000.0  3600.0   3704.0   \n",
       "\n",
       "           <VALUE>      <VOL>  <OPENINT> <PER>  <OPEN>  <LAST>  lagged_close  \\\n",
       "0     568548012690   86570273       6032     D  6680.0  6580.0        6680.0   \n",
       "1     786484354990  117817935       4930     D  6740.0  6640.0        6740.0   \n",
       "2     364468985740   54052654       3437     D  6740.0  6750.0        6740.0   \n",
       "3     611112726900   90692641       4911     D  6720.0  6740.0        6720.0   \n",
       "4     781397951230  116348740       5920     D  6710.0  6740.0        6710.0   \n",
       "...            ...        ...        ...   ...     ...     ...           ...   \n",
       "3401  162907276224   40645528       4984     D  3930.0  4008.0        3930.0   \n",
       "3402  122171316570   31086849       4247     D  3853.0  3930.0        3853.0   \n",
       "3403  103453562449   26850133       4118     D  3778.0  3853.0        3778.0   \n",
       "3404   40902501888   10826496       1709     D  3704.0  3778.0        3704.0   \n",
       "3405  640374172370  172898994       2489     D  4000.0  3704.0           NaN   \n",
       "\n",
       "      lagged_date   slope  \n",
       "0      20220702.0 -110.00  \n",
       "1      20220629.0   -0.82  \n",
       "2      20220628.0   -0.00  \n",
       "3      20220627.0   20.00  \n",
       "4      20220626.0   10.00  \n",
       "...           ...     ...  \n",
       "3401   20070207.0   26.00  \n",
       "3402   20070206.0   77.00  \n",
       "3403   20070205.0   75.00  \n",
       "3404   20070204.0   74.00  \n",
       "3405          NaN     NaN  \n",
       "\n",
       "[3406 rows x 15 columns]"
      ]
     },
     "execution_count": 7,
     "metadata": {},
     "output_type": "execute_result"
    }
   ],
   "source": [
    "df['lagged_close'] = df['<CLOSE>'].shift(-1)\n",
    "df['lagged_date'] = df['<DTYYYYMMDD>'].shift(-1)\n",
    "df['slope'] = round((df['lagged_close'] - df['<CLOSE>']) / (df['lagged_date'] - df['<DTYYYYMMDD>']),2)\n",
    "df"
   ]
  },
  {
   "cell_type": "code",
   "execution_count": 8,
   "metadata": {},
   "outputs": [
    {
     "data": {
      "text/plain": [
       "[-110.0, -0.82, -0.0, 20.0, 10.0]"
      ]
     },
     "execution_count": 8,
     "metadata": {},
     "output_type": "execute_result"
    }
   ],
   "source": [
    "slope = list(df['slope'])\n",
    "slope[0:5]"
   ]
  },
  {
   "cell_type": "code",
   "execution_count": 9,
   "metadata": {},
   "outputs": [
    {
     "data": {
      "text/plain": [
       "407    -1770.0\n",
       "444    -1730.0\n",
       "416    -1660.0\n",
       "442    -1590.0\n",
       "408    -1560.0\n",
       "         ...  \n",
       "452     1600.0\n",
       "410     1600.0\n",
       "411     1640.0\n",
       "450     1740.0\n",
       "3405       NaN\n",
       "Name: slope, Length: 3406, dtype: float64"
      ]
     },
     "execution_count": 9,
     "metadata": {},
     "output_type": "execute_result"
    }
   ],
   "source": [
    "df['slope'].sort_values()"
   ]
  },
  {
   "cell_type": "code",
   "execution_count": 10,
   "metadata": {},
   "outputs": [
    {
     "data": {
      "text/plain": [
       "[20220703,\n",
       " 20220702,\n",
       " 20220629,\n",
       " 20220628,\n",
       " 20220627,\n",
       " 20220626,\n",
       " 20220625,\n",
       " 20220622,\n",
       " 20220621,\n",
       " 20220620]"
      ]
     },
     "execution_count": 10,
     "metadata": {},
     "output_type": "execute_result"
    }
   ],
   "source": [
    "date[0:10]"
   ]
  },
  {
   "cell_type": "code",
   "execution_count": 11,
   "metadata": {},
   "outputs": [
    {
     "data": {
      "image/png": "[encoded data removed]",
      "text/plain": [
       "<Figure size 1800x288 with 1 Axes>"
      ]
     },
     "metadata": {
      "needs_background": "light"
     },
     "output_type": "display_data"
    }
   ],
   "source": [
    "fig = plt.figure(figsize=(25,4))\n",
    "plt.plot(date,slope)\n",
    "plt.title(\"The Stock Price\",size='x-large',color='blue')\n",
    "plt.show()"
   ]
  },
  {
   "cell_type": "code",
   "execution_count": 12,
   "metadata": {},
   "outputs": [],
   "source": [
    "bucket_close = []\n",
    "\n",
    "for i in range(0,len(close)-10):\n",
    "    bucket_close.append(close[i:i+10])"
   ]
  },
  {
   "cell_type": "code",
   "execution_count": 13,
   "metadata": {},
   "outputs": [
    {
     "data": {
      "text/plain": [
       "[[6570.0,\n",
       "  6680.0,\n",
       "  6740.0,\n",
       "  6740.0,\n",
       "  6720.0,\n",
       "  6710.0,\n",
       "  6940.0,\n",
       "  7180.0,\n",
       "  7300.0,\n",
       "  7370.0],\n",
       " [6680.0,\n",
       "  6740.0,\n",
       "  6740.0,\n",
       "  6720.0,\n",
       "  6710.0,\n",
       "  6940.0,\n",
       "  7180.0,\n",
       "  7300.0,\n",
       "  7370.0,\n",
       "  7400.0],\n",
       " [6740.0,\n",
       "  6740.0,\n",
       "  6720.0,\n",
       "  6710.0,\n",
       "  6940.0,\n",
       "  7180.0,\n",
       "  7300.0,\n",
       "  7370.0,\n",
       "  7400.0,\n",
       "  7440.0]]"
      ]
     },
     "execution_count": 13,
     "metadata": {},
     "output_type": "execute_result"
    }
   ],
   "source": [
    "bucket_close[0:3]"
   ]
  },
  {
   "cell_type": "code",
   "execution_count": 14,
   "metadata": {},
   "outputs": [],
   "source": [
    "sets_predict = []\n",
    "\n",
    "for i in range(0, len(bucket_close)-1):\n",
    "    t0 = bucket_close[i][-1]\n",
    "    t1 = bucket_close[i+1][0]\n",
    "    if t0 > t1 :\n",
    "        sets_predict.append(True)\n",
    "    else:\n",
    "        sets_predict.append(False)        "
   ]
  },
  {
   "cell_type": "code",
   "execution_count": 15,
   "metadata": {},
   "outputs": [
    {
     "data": {
      "text/plain": [
       "[True, True, True, True, True, True, True, True, False, False]"
      ]
     },
     "execution_count": 15,
     "metadata": {},
     "output_type": "execute_result"
    }
   ],
   "source": [
    "sets_predict[0:10]"
   ]
  },
  {
   "cell_type": "code",
   "execution_count": 16,
   "metadata": {},
   "outputs": [
    {
     "data": {
      "text/plain": [
       "[<matplotlib.lines.Line2D at 0x2cddff9bd30>]"
      ]
     },
     "execution_count": 16,
     "metadata": {},
     "output_type": "execute_result"
    },
    {
     "data": {
      "image/png": "[encoded data removed]",
      "text/plain": [
       "<Figure size 432x288 with 1 Axes>"
      ]
     },
     "metadata": {
      "needs_background": "light"
     },
     "output_type": "display_data"
    }
   ],
   "source": [
    "plt.plot(sets_predict,'o')"
   ]
  }
 ],
 "metadata": {
  "kernelspec": {
   "display_name": "base",
   "language": "python",
   "name": "python3"
  },
  "language_info": {
   "codemirror_mode": {
    "name": "ipython",
    "version": 3
   },
   "file_extension": ".py",
   "mimetype": "text/x-python",
   "name": "python",
   "nbconvert_exporter": "python",
   "pygments_lexer": "ipython3",
   "version": "3.8.5"
  },
  "orig_nbformat": 4
 },
 "nbformat": 4,
 "nbformat_minor": 2
}
